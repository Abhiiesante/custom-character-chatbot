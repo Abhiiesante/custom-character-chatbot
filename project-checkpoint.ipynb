{
 "cells": [
  {
   "cell_type": "markdown",
   "id": "124e5672",
   "metadata": {},
   "source": [
    "# Custom Chatbot Project"
   ]
  },
  {
   "cell_type": "markdown",
   "id": "511bc416",
   "metadata": {},
   "source": [
    "Dataset: character_descriptions.csv\n",
    "\n",
    "Rationale:\n",
    "I selected the 'character_descriptions.csv' dataset because it contains rich text about fictional characters, including their description, medium (theater, television, film), and setting (fantasy world, modern city, etc.).\n",
    "\n",
    "This type of data is perfect for custom chatbot prompts because:\n",
    "- It requires understanding of complex descriptive text (not just facts).\n",
    "- Good matching between a user's question and a character depends on nuanced features like bravery, detective skills, or world setting.\n",
    "- The custom retrieval will select better context than a generic model without access to this dataset.\n",
    "\n",
    "Without custom context, a general LLM would respond very vaguely (\"Here is a brave character: Superman.\")  \n",
    "With custom context, the LLM will give targeted answers (\"A brave character from a fantasy world: 'Liora the Dragonrider from Zephyra'.\")\n"
   ]
  },
  {
   "cell_type": "code",
   "execution_count": 14,
   "id": "004ce148",
   "metadata": {},
   "outputs": [],
   "source": [
    "# Import libraries\n",
    "import pandas as pd\n",
    "from sklearn.feature_extraction.text import TfidfVectorizer\n",
    "from sklearn.metrics.pairwise import cosine_similarity"
   ]
  },
  {
   "cell_type": "code",
   "execution_count": 15,
   "id": "30d2000f",
   "metadata": {},
   "outputs": [
    {
     "name": "stdout",
     "output_type": "stream",
     "text": [
      "Dataset loaded and embeddings created.\n"
     ]
    }
   ],
   "source": [
    "# Load dataset\n",
    "df = pd.read_csv('data/character_descriptions.csv')\n",
    "\n",
    "# Combine columns into a single 'text' field\n",
    "df['text'] = df['Description'] + \" Medium: \" + df['Medium'] + \". Setting: \" + df['Setting'] + \".\"\n",
    "\n",
    "# Save texts\n",
    "texts = df['text'].tolist()\n",
    "\n",
    "# Create TF-IDF embeddings for the contexts\n",
    "vectorizer = TfidfVectorizer()\n",
    "context_embeddings = vectorizer.fit_transform(texts)\n",
    "\n",
    "print(\"Dataset loaded and embeddings created.\")"
   ]
  },
  {
   "cell_type": "code",
   "execution_count": 16,
   "id": "0e45fab0",
   "metadata": {},
   "outputs": [],
   "source": [
    "# Function for custom query\n",
    "def custom_query(user_question):\n",
    "    # Embed the user question\n",
    "    question_embedding = vectorizer.transform([user_question])\n",
    "    \n",
    "    # Calculate cosine similarity\n",
    "    similarities = cosine_similarity(question_embedding, context_embeddings).flatten()\n",
    "    \n",
    "    # Select top 3 most similar contexts\n",
    "    top_indices = similarities.argsort()[-3:][::-1]\n",
    "    selected_contexts = [texts[i] for i in top_indices]\n",
    "    \n",
    "    # Join selected contexts\n",
    "    context = \"\\n\\n\".join(selected_contexts)\n",
    "    \n",
    "    # Simulate custom answer\n",
    "    return f\"(Custom Answer)\\nUsing the following context:\\n\\n{context}\\n\\nAnswer for: {user_question}\""
   ]
  },
  {
   "cell_type": "code",
   "execution_count": 17,
   "id": "872f1dad",
   "metadata": {},
   "outputs": [],
   "source": [
    "# Function for basic query\n",
    "def basic_query(user_question):\n",
    "    # Simulate generic LLM behavior\n",
    "    return f\"(Basic Answer)\\nGeneral response for: {user_question}\""
   ]
  },
  {
   "cell_type": "code",
   "execution_count": 18,
   "id": "5fe8958d",
   "metadata": {},
   "outputs": [],
   "source": [
    "# Define 2 test questions\n",
    "user_question_1 = \"Suggest a brave character from a fantasy world.\"\n",
    "user_question_2 = \"Find a detective character from a modern city setting.\""
   ]
  },
  {
   "cell_type": "code",
   "execution_count": 19,
   "id": "9844e437",
   "metadata": {},
   "outputs": [
    {
     "name": "stdout",
     "output_type": "stream",
     "text": [
      "\n",
      "--- Question 1: Brave Character ---\n",
      "\n",
      "Custom Prompt Output:\n",
      "(Custom Answer)\n",
      "Using the following context:\n",
      "\n",
      "A fiery and passionate young woman who works as a blacksmith. She is strong-willed and independent, and her singing voice is bold and powerful. Francesca has caught the eye of Prince Lorenzo, but she is hesitant to give her heart to a man who comes from such a different world. Medium: Opera. Setting: Italy.\n",
      "\n",
      "A jester and musician who works in Lady Olivia's household. Feste is the wisest character in the play, and uses his wit and intelligence to comment on the actions of the other characters. He is also a confidant to Viola, and helps her navigate her complicated situation. Medium: Play. Setting: Ancient Greece.\n",
      "\n",
      "A chameleon-like performer, Karma is known for her ability to transform herself into any character. She's a master of illusion and is always pushing boundaries with her looks and performances, but can sometimes struggle with authenticity and staying true to herself. She's also a friend of Dolly, often offering her a listening ear when she needs it. Medium: Musical. Setting: USA.\n",
      "\n",
      "Answer for: Suggest a brave character from a fantasy world.\n",
      "\n",
      "Basic Prompt Output:\n",
      "(Basic Answer)\n",
      "General response for: Suggest a brave character from a fantasy world.\n"
     ]
    }
   ],
   "source": [
    "# Show outputs\n",
    "\n",
    "print(\"\\n--- Question 1: Brave Character ---\")\n",
    "print(\"\\nCustom Prompt Output:\")\n",
    "print(custom_query(user_question_1))\n",
    "print(\"\\nBasic Prompt Output:\")\n",
    "print(basic_query(user_question_1))"
   ]
  },
  {
   "cell_type": "code",
   "execution_count": 20,
   "id": "9ede2ac9",
   "metadata": {},
   "outputs": [
    {
     "name": "stdout",
     "output_type": "stream",
     "text": [
      "\n",
      "--- Question 2: Detective Character ---\n",
      "\n",
      "Custom Prompt Output:\n",
      "(Custom Answer)\n",
      "Using the following context:\n",
      "\n",
      "A jester and musician who works in Lady Olivia's household. Feste is the wisest character in the play, and uses his wit and intelligence to comment on the actions of the other characters. He is also a confidant to Viola, and helps her navigate her complicated situation. Medium: Play. Setting: Ancient Greece.\n",
      "\n",
      "A young Indigenous Australian woman in her early 20s, Tahlia is a talented artist who's just been accepted into a prestigious art school. She's the niece of Mia and Max, and they've been like siblings since they were young. She's struggling to find her place in the world as an Indigenous woman, but Mia and Max are always there to support her. Medium: Limited Series. Setting: Australia.\n",
      "\n",
      "A chameleon-like performer, Karma is known for her ability to transform herself into any character. She's a master of illusion and is always pushing boundaries with her looks and performances, but can sometimes struggle with authenticity and staying true to herself. She's also a friend of Dolly, often offering her a listening ear when she needs it. Medium: Musical. Setting: USA.\n",
      "\n",
      "Answer for: Find a detective character from a modern city setting.\n",
      "\n",
      "Basic Prompt Output:\n",
      "(Basic Answer)\n",
      "General response for: Find a detective character from a modern city setting.\n"
     ]
    }
   ],
   "source": [
    "print(\"\\n--- Question 2: Detective Character ---\")\n",
    "print(\"\\nCustom Prompt Output:\")\n",
    "print(custom_query(user_question_2))\n",
    "print(\"\\nBasic Prompt Output:\")\n",
    "print(basic_query(user_question_2))"
   ]
  },
  {
   "cell_type": "code",
   "execution_count": 13,
   "id": "6be455c0",
   "metadata": {},
   "outputs": [
    {
     "name": "stdout",
     "output_type": "stream",
     "text": [
      "\n",
      "Ask about a character (type 'exit' to quit): exit\n"
     ]
    }
   ],
   "source": [
    "while True:\n",
    "    user_input = input(\"\\nAsk about a character (type 'exit' to quit): \")\n",
    "    if user_input.lower() == 'exit':\n",
    "        break\n",
    "    print(custom_query(user_input))"
   ]
  },
  {
   "cell_type": "code",
   "execution_count": null,
   "id": "1774d2f2",
   "metadata": {},
   "outputs": [],
   "source": []
  }
 ],
 "metadata": {
  "kernelspec": {
   "display_name": "Python 3 (ipykernel)",
   "language": "python",
   "name": "python3"
  },
  "language_info": {
   "codemirror_mode": {
    "name": "ipython",
    "version": 3
   },
   "file_extension": ".py",
   "mimetype": "text/x-python",
   "name": "python",
   "nbconvert_exporter": "python",
   "pygments_lexer": "ipython3",
   "version": "3.9.18"
  }
 },
 "nbformat": 4,
 "nbformat_minor": 5
}
